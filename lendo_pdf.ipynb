{
 "cells": [
  {
   "cell_type": "code",
   "execution_count": 32,
   "metadata": {},
   "outputs": [],
   "source": [
    "# importando biblíoteca \n",
    "from PyPDF2 import PdfReader\n",
    "import pandas as pd\n",
    "\n",
    "# Realizando leitura do arquivo\n",
    "reader = PdfReader(r'trelromemblohvi lote 411.pdf')\n",
    "\n",
    "# Extraíndo texto requerido do arquivo\n",
    "def extract_text(reader):\n",
    "\n",
    "    text = reader.pages[0].extract_text() # Extraindo texto(tabela) da primeira página\n",
    "\n",
    "    text_inicio = 390 # Posição inicial\n",
    "    text_fim =-27 # Posição final\n",
    "    text = text[text_inicio:text_fim] # Criando String com conteúdo do início ao fim\n",
    "\n",
    "    text = text.replace('-','_') # Substituindo '-' por '_' \n",
    " \n",
    "    return create_txt(text)\n",
    "\n",
    "# Criando arquivo txt\n",
    "def create_txt(text):\n",
    "        with open('txt_loop_de_dados.txt', 'w', encoding='utf-8') as txt: \n",
    "                            txt.write(text) #Escrevendo conteúdo no .txt\n",
    "\n",
    "extract_text(reader)"
   ]
  },
  {
   "cell_type": "code",
   "execution_count": 33,
   "metadata": {},
   "outputs": [],
   "source": [
    "# Criando arquivo .csv\n",
    "def create_csv():\n",
    "    arquivo = pd.read_csv(r'txt_loop_de_dados.txt', delimiter=' ',header=None) # Lendo arquivo .txt \n",
    "    cabecalho = []\n",
    "    \n",
    "    for p in range(arquivo.shape[1]): # definindo uma lista com a quatidade de colunas da tabela\n",
    "        cabecalho.append(f'column_{p}')\n",
    "\n",
    "    arquivo.columns = cabecalho # Setando quantidade de colunas no Dataframe\n",
    "\n",
    "    return arquivo.to_csv(\"txt_loop_de_dados.csv\") # Salvando em .csv\n",
    "\n",
    "create_csv()"
   ]
  }
 ],
 "metadata": {
  "kernelspec": {
   "display_name": "Python 3",
   "language": "python",
   "name": "python3"
  },
  "language_info": {
   "codemirror_mode": {
    "name": "ipython",
    "version": 3
   },
   "file_extension": ".py",
   "mimetype": "text/x-python",
   "name": "python",
   "nbconvert_exporter": "python",
   "pygments_lexer": "ipython3",
   "version": "3.11.3"
  },
  "orig_nbformat": 4
 },
 "nbformat": 4,
 "nbformat_minor": 2
}
